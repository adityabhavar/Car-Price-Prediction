{
 "cells": [
  {
   "cell_type": "code",
   "execution_count": 8,
   "metadata": {},
   "outputs": [
    {
     "name": "stdout",
     "output_type": "stream",
     "text": [
      "False\n",
      "True\n",
      "True\n"
     ]
    }
   ],
   "source": [
    " #membership operator \n",
    " str = \"message\"\n",
    " print('c' in str)\n",
    " print('s'in str )\n",
    " print('z'not in str)  "
   ]
  },
  {
   "cell_type": "code",
   "execution_count": 12,
   "metadata": {},
   "outputs": [
    {
     "name": "stdout",
     "output_type": "stream",
     "text": [
      "False\n",
      "True\n",
      "False\n",
      "True\n"
     ]
    }
   ],
   "source": [
    "#identity operator\n",
    "num = 10\n",
    "a = 20 \n",
    "print(num is a)\n",
    "print(num is not a)\n",
    "print(a is num)\n",
    "print(a is not num)"
   ]
  },
  {
   "cell_type": "code",
   "execution_count": 15,
   "metadata": {},
   "outputs": [
    {
     "name": "stdout",
     "output_type": "stream",
     "text": [
      "enter maths marks40\n",
      "enter marks of sci30\n",
      "enter marks of eng40\n",
      "36.666666666666664\n"
     ]
    }
   ],
   "source": [
    "#accept marks of 3 subjects calculate their average\n",
    "maths = int(input(\"enter maths marks\"))\n",
    "sci = int(input(\"enter marks of sci\"))\n",
    "eng = int(input(\"enter marks of eng\"))\n",
    "avg = (maths+sci+eng)/3\n",
    "print(avg)"
   ]
  },
  {
   "cell_type": "code",
   "execution_count": 20,
   "metadata": {},
   "outputs": [
    {
     "name": "stdout",
     "output_type": "stream",
     "text": [
      "enter the basic salary10000\n",
      "the gross salary is :  10500.0\n"
     ]
    }
   ],
   "source": [
    "#accept basic salary of an employee and calculate his gross salary if he gets 2% home allowance and 3% deduction \n",
    "sal = int(input(\"enter the basic salary\"))\n",
    "gross = sal + (sal*0.05)\n",
    "print(\"the gross salary is : \", gross)"
   ]
  },
  {
   "cell_type": "code",
   "execution_count": 28,
   "metadata": {},
   "outputs": [
    {
     "name": "stdout",
     "output_type": "stream",
     "text": [
      "enter the length 10\n",
      "enter the breadth 4\n",
      "area is :   40\n",
      "perimeter is :   28\n"
     ]
    }
   ],
   "source": [
    "#accept lengh and breadth of a rectangle and calculate its area perimeter\n",
    "l = int(input(\"enter the length \"))\n",
    "b = int(input(\"enter the breadth \"))\n",
    "area = l*b\n",
    "peri = 2*(l+b)\n",
    "print(\"area is :  \" , area)\n",
    "print(\"perimeter is :  \" , peri)"
   ]
  },
  {
   "cell_type": "code",
   "execution_count": 29,
   "metadata": {},
   "outputs": [
    {
     "name": "stdout",
     "output_type": "stream",
     "text": [
      "enter the first variable 2\n",
      "enter the second variable 3\n",
      "before swapping : 2 3\n",
      "after swapping : 3 2\n"
     ]
    }
   ],
   "source": [
    "#swap values of 2 variables using third variables and without using third variables \n",
    "a = int(input(\"enter the first variable \"))\n",
    "b = int(input(\"enter the second variable \"))\n",
    "print(\"before swapping :\",a,b)\n",
    "a = a+b\n",
    "b = a-b\n",
    "a = a-b\n",
    "print(\"after swapping :\",a,b)"
   ]
  },
  {
   "cell_type": "code",
   "execution_count": 7,
   "metadata": {},
   "outputs": [
    {
     "name": "stdout",
     "output_type": "stream",
     "text": [
      "type = <class 'int'>\n",
      "type =  <class 'float'>\n",
      "type =  <class 'complex'>\n",
      "type =  <class 'bool'>\n"
     ]
    }
   ],
   "source": [
    "#simple data type \n",
    "num = 10\n",
    "print(\"type =\" , type(num))\n",
    "no = 10.5\n",
    "print(\"type = \", type(no))\n",
    "k = 5+2j \n",
    "print(\"type = \", type(k))\n",
    "s = True\n",
    "print(\"type = \", type(s))"
   ]
  },
  {
   "cell_type": "code",
   "execution_count": 30,
   "metadata": {},
   "outputs": [
    {
     "name": "stdout",
     "output_type": "stream",
     "text": [
      "17\n",
      "w\n",
      "e\n",
      "l\n",
      "welcome\n",
      "to \n",
      "pyhton\n",
      "welcome to pyhton\n",
      "welcome\n",
      "pyhton\n",
      "welcome to pyhtonwelcome to pyhton\n",
      "welcome to pyhton sanjana\n"
     ]
    }
   ],
   "source": [
    "#sequence data type\n",
    "val = 'welcome to pyhton'\n",
    "\n",
    "#lenght \n",
    "print(len (val))\n",
    "\n",
    "#indexing\n",
    "print(val[0])\n",
    "print(val[1])\n",
    "print(val[2])\n",
    "\n",
    "#slicing \n",
    "print(val[0:7])\n",
    "print(val[8:11])\n",
    "print(val[11:])\n",
    "print(val[:])\n",
    "print(val[-17:-10])\n",
    "print(val[-6:])\n",
    "\n",
    "#repeatation \n",
    "print(val*2)\n",
    "\n",
    "#concatenation\n",
    "print(val + \" sanjana\")\n"
   ]
  },
  {
   "cell_type": "code",
   "execution_count": 10,
   "metadata": {},
   "outputs": [
    {
     "name": "stdout",
     "output_type": "stream",
     "text": [
      "[10, 20, 30, 40, 50]\n",
      "[10, 20, 30, 40, 50, 60]\n",
      "[10, 20, 25, 30, 40, 50, 60]\n",
      "[10, 20, 30, 40, 50, 60]\n",
      "1\n",
      "[60, 50, 40, 30, 20, 10]\n",
      "max no. in list   60\n",
      "min no. in list   10\n"
     ]
    }
   ],
   "source": [
    "#list \n",
    "nums = [10,20,30,40,50]\n",
    "print(nums)\n",
    "\n",
    "#append\n",
    "nums.append(60)\n",
    "print(nums)\n",
    "\n",
    "#insert - inserts number \"position , number to be added\"\n",
    "nums.insert(2,25)\n",
    "print(nums)\n",
    "\n",
    "#remove \n",
    "nums.remove(25)\n",
    "print(nums)\n",
    "\n",
    "#count - counts how many times the number occured in the list \n",
    "cnt = nums.count(10)\n",
    "print(cnt)\n",
    "\n",
    "#reverse - it reverse the list \n",
    "nums.reverse()\n",
    "print(nums)\n",
    "\n",
    "#max - min\n",
    "print(\"max no. in list  \",max (nums))\n",
    "print(\"min no. in list  \",min (nums))"
   ]
  },
  {
   "cell_type": "code",
   "execution_count": 32,
   "metadata": {},
   "outputs": [
    {
     "name": "stdout",
     "output_type": "stream",
     "text": [
      "<class 'dict'>\n",
      "{'name': 'sanju', 'age': '22', 'no.': '7775934937'}\n",
      "sanju\n",
      "22\n",
      "7775934937\n",
      "3\n",
      "chingi\n",
      "dict_keys(['name', 'age', 'no.'])\n",
      "dict_values(['chingi', '22', '7775934937'])\n",
      "dict_items([('name', 'chingi'), ('age', '22'), ('no.', '7775934937')])\n",
      "chingi\n"
     ]
    }
   ],
   "source": [
    "#dictionary - key value pair, unordered asta , represented in \"{}\" \n",
    "\n",
    "dict = {\"name\": \"sanju\", \"age\": \"22\", \"no.\":\"7775934937\"}\n",
    "print(type(dict))\n",
    "print(dict)\n",
    "\n",
    "#printing using key \n",
    "print(dict[\"name\"])\n",
    "print(dict[\"age\"])\n",
    "print(dict[\"no.\"])\n",
    "\n",
    "#length\n",
    "print(len(dict))\n",
    "\n",
    "#update\n",
    "dict[\"name\"]= \"chingi\"\n",
    "print(dict[\"name\"])\n",
    "\n",
    "#deleting dictionary\n",
    "#del dict[\"name\"]\n",
    "#print(dict)\n",
    "#dict.clear()\n",
    "#print(dict)\n",
    "\n",
    "#dictinary functions\n",
    "print(dict.keys())\n",
    "print(dict.values())\n",
    "print(dict.items())\n",
    "print(dict.get(\"name\"))"
   ]
  },
  {
   "cell_type": "code",
   "execution_count": 8,
   "metadata": {},
   "outputs": [
    {
     "name": "stdout",
     "output_type": "stream",
     "text": [
      "union =  {70, 40, 10, 50, 20, 60, 30}\n",
      "intersection = {40, 50, 30}\n",
      "difference =  {10, 20}\n",
      "difference =  {60, 70}\n"
     ]
    }
   ],
   "source": [
    "#sets\n",
    "set1 = {10,20,30,40,50}\n",
    "set2 = {30,40,50,60,70}\n",
    "\n",
    "#union\n",
    "print(\"union = \" , set1|set2)\n",
    "\n",
    "#intersection\n",
    "print(\"intersection =\" , set1&set2)\n",
    "\n",
    "#difference\n",
    "print(\"difference = \", set1-set2)\n",
    "print(\"difference = \", set2-set1)"
   ]
  },
  {
   "cell_type": "code",
   "execution_count": 20,
   "metadata": {},
   "outputs": [
    {
     "name": "stdout",
     "output_type": "stream",
     "text": [
      "[{'name': 'sanjana', 'email': 'kakad@gmail.com', 'address': '[city - nashik,state - maharashtra,pin - 422011]', 'age': '21'}, {'name': 'divya', 'email': 'kakad2@gmail.com', 'address': '[city - thane,state - maharashtra,pin - 422013]', 'age': '22'}, {'name': 'adya', 'email': 'kakad3@gmail.com', 'address': '[city - gorgaon,state - maharashtra,pin - 422014]', 'age': '23'}, {'name': 'abhi', 'email': 'kakad4@gmail.com', 'address': '[city - hydrabad,state - maharashtra,pin - 422015]', 'age': '24'}, {'name': 'nana', 'email': 'kakad5@gmail.com', 'address': '[city - nashik,state - maharashtra,pin - 422016]', 'age': '25'}]\n"
     ]
    }
   ],
   "source": [
    "#example \n",
    "#1 create a single variable to store details of 5 students where each students has following details-name, email, address(city,state,pin),age\n",
    "stud1 = {\"name\":\"sanjana\", \"email\":\"kakad@gmail.com\",\"address\":\"[city - nashik,state - maharashtra,pin - 422011]\",\"age\":\"21\"}   \n",
    "stud2 = {\"name\":\"divya\", \"email\":\"kakad2@gmail.com\",\"address\":\"[city - thane,state - maharashtra,pin - 422013]\",\"age\":\"22\"}  \n",
    "stud3 = {\"name\":\"adya\", \"email\":\"kakad3@gmail.com\",\"address\":\"[city - gorgaon,state - maharashtra,pin - 422014]\",\"age\":\"23\"}   \n",
    "stud4 = {\"name\":\"abhi\", \"email\":\"kakad4@gmail.com\",\"address\":\"[city - hydrabad,state - maharashtra,pin - 422015]\",\"age\":\"24\"}   \n",
    "stud5 = {\"name\":\"nana\", \"email\":\"kakad5@gmail.com\",\"address\":\"[city - nashik,state - maharashtra,pin - 422016]\",\"age\":\"25\"}   \n",
    "\n",
    "details =[stud1,\n",
    "          stud2,\n",
    "          stud3,\n",
    "          stud4,\n",
    "          stud5]\n",
    "print(details)\n"
   ]
  },
  {
   "cell_type": "code",
   "execution_count": 12,
   "metadata": {},
   "outputs": [
    {
     "name": "stdout",
     "output_type": "stream",
     "text": [
      "enter the no.11\n",
      "no. is less\n",
      "no. is +ve\n",
      "no. is odd\n"
     ]
    }
   ],
   "source": [
    "#control structures\n",
    "x=int(input(\"enter the no.\"))\n",
    "\n",
    "#IF CONDITION\n",
    "#check wheather no is greater than 100\n",
    "if x>100:\n",
    "    print(\"entered no. is greater than 100\")\n",
    "if x==100:\n",
    "    print(\"no. is equal to 100\")\n",
    "else:\n",
    "    if x==100:\n",
    "        print(\"no. is equal to 100\")\n",
    "    else:    \n",
    "        print(\"no. is less\")\n",
    "#check wheather no is positive or negative\n",
    "if x>0:\n",
    "    print(\"no. is +ve\")\n",
    "else:\n",
    "    print(\"the no. is -ve \")\n",
    "    \n",
    " #check wheather no. is even or odd\n",
    "if (x%2)==0:\n",
    "    print(\"no. is even \")\n",
    "else: \n",
    "    print(\"no. is odd\")"
   ]
  },
  {
   "cell_type": "code",
   "execution_count": 25,
   "metadata": {},
   "outputs": [
    {
     "name": "stdout",
     "output_type": "stream",
     "text": [
      "enter the first no.3\n",
      "enter the second no.2\n",
      "biggest no. =  3\n",
      "\n",
      "\n",
      "enter the 3rd no.4\n",
      "smallest no. =  2\n"
     ]
    }
   ],
   "source": [
    "#1 accept 2 nos and display largest of them \n",
    "x=int(input(\"enter the first no.\"))\n",
    "y=int(input(\"enter the second no.\"))\n",
    "if x>y:\n",
    "    print(\"biggest no. = \",x)\n",
    "else :\n",
    "    print(\"biggest no. = \",y)\n",
    "print(\"\\n\")    \n",
    "#2 accept 3 nos and display smallest of them\n",
    "a=int(input(\"enter the 3rd no.\"))\n",
    "if x<y<a:\n",
    "    print(\"smallest no. = \",x)\n",
    "else:\n",
    "    if y<a:\n",
    "        print(\"smallest no. = \",y)\n",
    "    else :\n",
    "        print(\"smallest no. = \",a)\n",
    "        \n",
    "        "
   ]
  },
  {
   "cell_type": "code",
   "execution_count": 8,
   "metadata": {},
   "outputs": [
    {
     "name": "stdout",
     "output_type": "stream",
     "text": [
      "enter the salary1500\n",
      "hi peon\n"
     ]
    }
   ],
   "source": [
    "#accept salary of a person and display his post as follows\n",
    "#Executive- more than 80000 or Supervisor 60000 to 80000 or clerk 30000 to 60000 or peon below 30000\n",
    "\n",
    "sal = int(input(\"enter the salary\"))\n",
    "if sal>80000 :\n",
    "    print(\"hi executive\")\n",
    "elif sal>60000:\n",
    "    print(\"hi supervisor\")\n",
    "elif sal>30000:\n",
    "    print(\"hi clerk\")\n",
    "else :\n",
    "    print(\"hi peon\")"
   ]
  },
  {
   "cell_type": "code",
   "execution_count": 7,
   "metadata": {},
   "outputs": [
    {
     "name": "stdout",
     "output_type": "stream",
     "text": [
      "[{'roll_no': 101, 'name': 'sanjana', 'email': 'kakad@123', 'marks': 26}, {'roll_no': 102, 'name': 'divya', 'email': 'kakad@123', 'marks': 30}, {'roll_no': 103, 'name': 'devyani', 'email': 'kakad@123', 'marks': 36}]\n"
     ]
    }
   ],
   "source": [
    "#store data of 5 students do following tasks\n",
    " \n",
    "student = [ \n",
    "            \n",
    "    {\n",
    "        \"roll_no\": 101,\n",
    "        \"name\": \"sanjana\",\n",
    "        \"email\":\"kakad@123\",\n",
    "        \"marks\":26,\n",
    "    },\n",
    "    \n",
    "    {\n",
    "        \"roll_no\": 102,\n",
    "        \"name\": \"divya\",\n",
    "        \"email\":\"kakad@123\",\n",
    "        \"marks\":30,\n",
    "    },\n",
    "    \n",
    "    {\n",
    "        \"roll_no\": 103,\n",
    "        \"name\": \"devyani\",\n",
    "        \"email\" : \"kakad@123\",\n",
    "        \"marks\" :36,\n",
    "    },\n",
    "    \n",
    "    \n",
    "]\n",
    "\n",
    "print(student)"
   ]
  },
  {
   "cell_type": "code",
   "execution_count": 10,
   "metadata": {},
   "outputs": [
    {
     "name": "stdout",
     "output_type": "stream",
     "text": [
      "10\n",
      "12\n",
      "13\n",
      "14\n",
      "15\n",
      "addition  30\n",
      "multiplication  10\n",
      "division  5.0\n",
      "division  5.0\n",
      "10\n",
      "32\n",
      "multiplication  200\n"
     ]
    }
   ],
   "source": [
    "#functions\n",
    "#func definition - without parameter \n",
    "\n",
    "def add():\n",
    "    num1=10\n",
    "    num2=20\n",
    "    sum=num1+num2\n",
    "    print(\"addition \" , sum )\n",
    "\n",
    "    \n",
    "#passing the parameter - function with parameter     \n",
    "def mul(num1,num2):\n",
    "    mul=num1*num2\n",
    "    print(\"multiplication \" , mul )\n",
    "\n",
    "#fucntion definition -returning the value \n",
    "def div(num1,num2):\n",
    "    div=num1/num2\n",
    "    return div\n",
    "    \n",
    "#passing the parameter - function with default parameter     \n",
    "def mul(num1,num2=1):\n",
    "    mul=num1*num2\n",
    "    print(\"multiplication \" , mul )    \n",
    "    \n",
    " \n",
    "#arbetrary parameters\n",
    "\n",
    "def numlist(*nums):\n",
    "    for num in nums:\n",
    "        print(num)\n",
    "        \n",
    "numlist(10,12,13,14,15)     \n",
    "\n",
    "\n",
    "\n",
    "#DYNAMIC function / LAMBDA function  / ANONYMOUS\n",
    "double= lambda x : x*2         #lamda and anonymous is the key word to create functions \n",
    "\n",
    "#def anonymous(x):\n",
    " #   return (x*2)\n",
    "\n",
    "def calculate(num1,num2,perform):    \n",
    "    perform(num1,num2)\n",
    " \n",
    "#func call\n",
    "\n",
    "add()\n",
    "mul(10)\n",
    "d=div(15,3)\n",
    "print(\"division \", d)\n",
    "print(\"division \", div(15,3))\n",
    "print (double(5))\n",
    "kg=print(double(16)) #we can assign value of function variable to another variable \n",
    "calculate(10,20,mul)"
   ]
  },
  {
   "cell_type": "code",
   "execution_count": 5,
   "metadata": {},
   "outputs": [
    {
     "name": "stdout",
     "output_type": "stream",
     "text": [
      "[1, 8, 27, 64, 125]\n",
      "[11, 22, 33, 44, 55]\n",
      "[2, 4, 6, 8, 10]\n"
     ]
    }
   ],
   "source": [
    "#map function = map(function,list/data)   it is used to give series of values to function!!!\n",
    "\n",
    "cube = lambda x: x*x*x\n",
    "nums =[1,2,3,4,5]\n",
    "\n",
    "allcube= list(map(cube,nums))\n",
    "print(allcube)\n",
    "\n",
    "\n",
    "add= lambda x,y :x+y\n",
    "\n",
    "x=[1,2,3,4,5] \n",
    "y=[10,20,30,40,50]\n",
    "allsum=list(map(add,x,y))\n",
    "print(allsum)\n",
    "\n",
    "\n",
    "\n",
    "\n",
    "#filter function\n",
    "nums = [1,2,3,4,5,6,7,8,9,10]\n",
    "\n",
    "\n",
    "def iseven(n):\n",
    "    if n%2==0:\n",
    "        return True\n",
    "    return False\n",
    "alleven = list(filter(iseven,nums))\n",
    "print(alleven)"
   ]
  },
  {
   "cell_type": "code",
   "execution_count": null,
   "metadata": {},
   "outputs": [],
   "source": [
    "#module function\n",
    " def add(x,y):\n",
    "    print(\"add\", x+y)\n",
    "\n",
    "def sub(x,y):\n",
    "    print(\"sub\", x-y)\n",
    "\n",
    "def mul(x,y):\n",
    "    print(\"mul\", x*y)\n",
    "\n",
    "def div(x,y):\n",
    "    print(\"div\", x/y)\n",
    "\n",
    "\n",
    "add(10,20)\n",
    "sub(20,10)\n",
    "mul(10,15)\n",
    "divide(50,10)"
   ]
  },
  {
   "cell_type": "code",
   "execution_count": 10,
   "metadata": {},
   "outputs": [
    {
     "name": "stdout",
     "output_type": "stream",
     "text": [
      "20\n",
      "learning python\n"
     ]
    }
   ],
   "source": [
    "#oops concept \n",
    "class person:\n",
    "    age=20\n",
    "    name=\"sanjana\"\n",
    "    def hobby(self):\n",
    "        print(\"learning python\")\n",
    "        \n",
    "p1=person();\n",
    "print(p1.age)\n",
    "p1.hobby()\n",
    "        \n",
    "        "
   ]
  },
  {
   "cell_type": "code",
   "execution_count": 12,
   "metadata": {},
   "outputs": [
    {
     "name": "stdout",
     "output_type": "stream",
     "text": [
      "enter the length of rectangle10\n",
      "enter the breath20\n",
      "200\n",
      "enter the length of rectangle30\n",
      "enter the breath10\n",
      "300\n"
     ]
    }
   ],
   "source": [
    "#area of rectangle using \"oops\"\n",
    "class rec:\n",
    "    def accept(self):\n",
    "        self.len=int(input(\"enter the length of rectangle\"))\n",
    "        self.brd=int(input(\"enter the breath\"))\n",
    "    def getarea(self):\n",
    "        print(self.len*self.brd)\n",
    "        \n",
    "        \n",
    "r1=rec();\n",
    "r1.accept();\n",
    "r1.getarea();\n",
    "r2=rec();\n",
    "r2.accept();\n",
    "r2.getarea();"
   ]
  },
  {
   "cell_type": "code",
   "execution_count": 55,
   "metadata": {},
   "outputs": [
    {
     "name": "stdout",
     "output_type": "stream",
     "text": [
      "details are :\n",
      "1 sanj 4th\n",
      "2 divya 5th\n",
      "3 pooja 6th\n"
     ]
    }
   ],
   "source": [
    "#define a class student accept roll no. , name , class as its data member . Create 3 students and accept \n",
    "#and display their details.\n",
    "\n",
    "class student:\n",
    "    def accept(self, roll, name,std):\n",
    "        self.rollno=roll\n",
    "        self.name=name\n",
    "        self.standard=std\n",
    "    def display(self):\n",
    "        print(\"details are :\")\n",
    "    '''\n",
    "    def display(self):\n",
    "        print(\"name is \",self.name)\n",
    "        print(\"rollno is \",self.rollno)\n",
    "        print(\"standard is \",self.standard)\n",
    "    '''   \n",
    "s1=student();\n",
    "s2=student();\n",
    "s3=student();\n",
    "s1.accept(\"1\",\"sanj\",\"4th\")\n",
    "s1.display();\n",
    "print(s1.rollno ,s1.name,s1.standard)\n",
    "s2.accept(\"2\",\"divya\",\"5th\")\n",
    "print(s2.rollno , s2.name, s2.standard)\n",
    "s3.accept(\"3\",\"pooja\",\"6th\")\n",
    "print(s3.rollno , s3.name, s3.standard)\n",
    "\n",
    "        "
   ]
  },
  {
   "cell_type": "code",
   "execution_count": 46,
   "metadata": {},
   "outputs": [
    {
     "name": "stdout",
     "output_type": "stream",
     "text": [
      "the name is  sanju\n",
      "the acc no. is  0000002\n",
      "the balance is  2000\n",
      "type 1 to deposite and 2 to withdraw 2\n",
      "the final amount is  1000\n"
     ]
    }
   ],
   "source": [
    "#create a bank account having acc_no,balance,name and perform display details,deposite and withdraw functions\n",
    "\n",
    "class acc:\n",
    "    def detail(self,x,y,z):\n",
    "        self.name=x\n",
    "        self.acc_no=y\n",
    "        self.bal=z\n",
    "    def display(self):\n",
    "        print(\"the name is \",self.name)\n",
    "        print(\"the acc no. is \",self.acc_no)\n",
    "        print(\"the balance is \",self.bal)   \n",
    "    def depo(self,z):\n",
    "        r=int(self.bal) + int(z)\n",
    "        print(\"the final amount is \",r)\n",
    "    def withd(self,b):\n",
    "        print(\"the final amount is \",int(self.bal)-int(b))  \n",
    "        \n",
    "per1=acc();\n",
    "per1.detail(\"sanju\",\"0000002\",\"2000\");\n",
    "per1.display();\n",
    "c=int(input(\"type 1 to deposite and 2 to withdraw \"))\n",
    "if c==1:\n",
    "    per1.depo(\"1000\");\n",
    "elif c==2:\n",
    "    per1.withd(\"1000\");\n",
    "else :\n",
    "    print(\"session ended!!!!\")"
   ]
  },
  {
   "cell_type": "code",
   "execution_count": null,
   "metadata": {},
   "outputs": [],
   "source": [
    "#define a class product with sell cost and purchase cost as its data members. Accept the details of a product and \n",
    "#check wheather it is in loss or profit."
   ]
  }
 ],
 "metadata": {
  "kernelspec": {
   "display_name": "Python 3",
   "language": "python",
   "name": "python3"
  },
  "language_info": {
   "codemirror_mode": {
    "name": "ipython",
    "version": 3
   },
   "file_extension": ".py",
   "mimetype": "text/x-python",
   "name": "python",
   "nbconvert_exporter": "python",
   "pygments_lexer": "ipython3",
   "version": "3.8.5"
  }
 },
 "nbformat": 4,
 "nbformat_minor": 4
}
